{
 "cells": [
  {
   "cell_type": "code",
   "execution_count": 2,
   "id": "da98b1cd",
   "metadata": {},
   "outputs": [
    {
     "name": "stdout",
     "output_type": "stream",
     "text": [
      "[[20 45 20]\n",
      " [43 19  6]\n",
      " [56 32 95]\n",
      " [13 77 20]\n",
      " [16 49 55]]\n"
     ]
    }
   ],
   "source": [
    "#Question1\n",
    "#This line generates a NumPy array named arr1 with a shape of (5, 3). \n",
    "#The elements in this array are randomly generated integers between 1 (inclusive) and 100 (exclusive)\n",
    "arr1 = np.random.randint(1, 100, size=(5, 3))\n",
    "print(arr1)"
   ]
  },
  {
   "cell_type": "code",
   "execution_count": 5,
   "id": "12924c03",
   "metadata": {},
   "outputs": [
    {
     "name": "stdout",
     "output_type": "stream",
     "text": [
      "The number in the third row, third column is: 95\n"
     ]
    }
   ],
   "source": [
    "#Question2\n",
    "# This line accesses the element at the 3rd row and 3rd column of the arr1 array \n",
    "number = arr1[2, 2]\n",
    "print(\"The number in the third row, third column is:\", number)"
   ]
  },
  {
   "cell_type": "code",
   "execution_count": 6,
   "id": "9754b8a0",
   "metadata": {},
   "outputs": [
    {
     "name": "stdout",
     "output_type": "stream",
     "text": [
      "[[43 19  6]\n",
      " [13 77 20]]\n"
     ]
    }
   ],
   "source": [
    "#Question3\n",
    "#Slicing explained, 1: This is the starting index. It means you start the slice from the second element \n",
    "# ::2] -  It means you will take every second element starting from the starting index. In other words,\n",
    "#you'll include every other element in the slice.\n",
    "arr_slice = arr1[1::2]\n",
    "print(arr_slice)"
   ]
  },
  {
   "cell_type": "code",
   "execution_count": 11,
   "id": "cdfe5fc2",
   "metadata": {},
   "outputs": [
    {
     "name": "stdout",
     "output_type": "stream",
     "text": [
      "[[   43    19     6]\n",
      " [   13    77 12345]]\n",
      "This changed the value of the last number in the arr1.\n"
     ]
    }
   ],
   "source": [
    "#Question4\n",
    "arr_slice[-1,-1] = 12345\n",
    "print(arr_slice)\n",
    "print(\"This changed the value of the last number in the arr1.\")\n"
   ]
  },
  {
   "cell_type": "code",
   "execution_count": 16,
   "id": "16b9063d",
   "metadata": {},
   "outputs": [
    {
     "name": "stdout",
     "output_type": "stream",
     "text": [
      "[[ 2 84 50 56 15]\n",
      " [ 3 61 41 68 69]\n",
      " [38 72 60 30 96]]\n"
     ]
    }
   ],
   "source": [
    "#Question5\n",
    "arr1 = np.random.randint(1, 100, size=(5, 3))\n",
    "\n",
    "transpose_arr1 = arr1.transpose()\n",
    "print(transpose_arr1)"
   ]
  },
  {
   "cell_type": "code",
   "execution_count": 15,
   "id": "7fbc8efe",
   "metadata": {},
   "outputs": [
    {
     "name": "stdout",
     "output_type": "stream",
     "text": [
      "[[ 7  7 23  5 29]\n",
      " [ 7 13  7 25  5]\n",
      " [19  9 21  7 27]\n",
      " [23 11  9 29  5]]\n"
     ]
    }
   ],
   "source": [
    "#Question6\n",
    "arr2 = np.random.choice(np.arange(1, 40, 2), size=(4, 5))\n",
    "print(arr2)"
   ]
  },
  {
   "cell_type": "code",
   "execution_count": 57,
   "id": "d26dc2f6",
   "metadata": {},
   "outputs": [
    {
     "name": "stdout",
     "output_type": "stream",
     "text": [
      "[[96 10  8 17  3  7  9]\n",
      " [ 3  8  7  5 27 31 13]\n",
      " [23 91 27 39 37  5 17]\n",
      " [74 85 87 19 25  5 23]\n",
      " [ 6 12 17 39 19 21 27]]\n"
     ]
    }
   ],
   "source": [
    "#Question7\n",
    "arr1 = np.random.randint(1, 100, size=(5, 3))\n",
    "arr2 = np.random.choice(np.arange(1, 40, 2), size=(4, 5))\n",
    "transpose_arr2 = arr2.transpose()\n",
    "\n",
    "arr_new = np.hstack((arr1, transpose_arr2))\n",
    "print(arr_new)"
   ]
  },
  {
   "cell_type": "code",
   "execution_count": 59,
   "id": "6d2b9e53",
   "metadata": {},
   "outputs": [
    {
     "name": "stdout",
     "output_type": "stream",
     "text": [
      "[[96 10  8]\n",
      " [ 3  8  7]\n",
      " [23 91 27]\n",
      " [74 85 87]\n",
      " [ 6 12 17]]\n",
      "This is the sum of arr1 by row\n",
      "[114  18 141 246  35]\n"
     ]
    }
   ],
   "source": [
    "#Question8\n",
    "row_sum = np.sum(arr1, axis = 1)\n",
    "print(arr1)\n",
    "\n",
    "print(\"This is the sum of arr1 by row\")\n",
    "print(row_sum)"
   ]
  },
  {
   "cell_type": "code",
   "execution_count": 33,
   "id": "401ede17",
   "metadata": {},
   "outputs": [
    {
     "name": "stdout",
     "output_type": "stream",
     "text": [
      "This is the matrix multiplication\n",
      "[[ 9657  9910 13460]\n",
      " [ 7527 10499 15668]\n",
      " [10075 10485 12999]\n",
      " [ 7704  9925 13418]\n",
      " [ 4993  4310  6569]]\n",
      "This is the element multiplication\n",
      "[[6030 4740 5670]\n",
      " [6586  946  195]\n",
      " [1998 2747 5185]\n",
      " [8036 2680  360]\n",
      " [ 176 2736  702]]\n"
     ]
    }
   ],
   "source": [
    "#Question9\n",
    "arr1 = np.random.randint(1, 100, size=(5, 3))\n",
    "arr3 = np.random.randint(1, 100, size=(3, 3))\n",
    "arr4 = np.random.randint(1, 100, size=(5, 3))\n",
    "\n",
    "matrix_multiplication = np.dot(arr1, arr3)\n",
    "element_multiplication = arr1 * arr4\n",
    "print(\"This is the matrix multiplication\")\n",
    "print(matrix_multiplication)\n",
    "print(\"This is the element multiplication\")\n",
    "print(element_multiplication)"
   ]
  },
  {
   "cell_type": "code",
   "execution_count": 54,
   "id": "4c025913",
   "metadata": {},
   "outputs": [
    {
     "name": "stdout",
     "output_type": "stream",
     "text": [
      "This is a 1D array\n",
      "(3,)\n",
      "This is a 2D array\n",
      "(3, 3)\n",
      "This is a 3D array\n",
      "(3, 3, 3)\n"
     ]
    }
   ],
   "source": [
    "#Question10\n",
    "oneD_arr = np.arange(1, 4)\n",
    "print(\"This is a 1D array\")\n",
    "print(oneD_arr.shape)\n",
    "\n",
    "twoD_arr = np.array([np.arange(1, 4), np.arange(1, 4), np.arange(1, 4)])\n",
    "print(\"This is a 2D array\")\n",
    "print(twoD_arr.shape)\n",
    "\n",
    "a1 = np.array([np.arange(1, 4), np.arange(1, 4), np.arange(1, 4)])\n",
    "a2 = np.array([np.arange(1, 4), np.arange(1, 4), np.arange(1, 4)])\n",
    "threeD_arr = np.array([a1, a2, a1])\n",
    "print(\"This is a 3D array\")\n",
    "print(threeD_arr.shape)"
   ]
  },
  {
   "cell_type": "markdown",
   "id": "9342fb41",
   "metadata": {},
   "source": [
    "THIS IS AN INDIVIDUAL ASSIGNMENT. YOU MAY NOT DISCUSS THIS ASSIGNMENT WITH ANYONE WITHIN OR OUTSIDE THE CLASS (except the instructor).\n",
    "- DO not discuss your approaches or your code with colleagues. There are many ways to implement this assignment, and it is extremely easy to spot code that has been inspired by someone else’s code and to identify unauthorized collaborations.\n",
    "- If you choose to utilize something you find online, cite that resource, but DO NOT share that resource with anyone else.\n",
    "By submitting this assignment, you certify that no unauthorized assistance has been received or given in the completion of this work.\n",
    "\n",
    "\n",
    "Ukari Overby\n"
   ]
  }
 ],
 "metadata": {
  "kernelspec": {
   "display_name": "Python 3 (ipykernel)",
   "language": "python",
   "name": "python3"
  },
  "language_info": {
   "codemirror_mode": {
    "name": "ipython",
    "version": 3
   },
   "file_extension": ".py",
   "mimetype": "text/x-python",
   "name": "python",
   "nbconvert_exporter": "python",
   "pygments_lexer": "ipython3",
   "version": "3.11.4"
  }
 },
 "nbformat": 4,
 "nbformat_minor": 5
}
